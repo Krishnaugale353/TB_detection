{
  "nbformat": 4,
  "nbformat_minor": 0,
  "metadata": {
    "colab": {
      "provenance": [],
      "gpuType": "T4",
      "include_colab_link": true
    },
    "kernelspec": {
      "name": "python3",
      "display_name": "Python 3"
    },
    "language_info": {
      "name": "python"
    },
    "accelerator": "GPU"
  },
  "cells": [
    {
      "cell_type": "markdown",
      "metadata": {
        "id": "view-in-github",
        "colab_type": "text"
      },
      "source": [
        "<a href=\"https://colab.research.google.com/github/Krishnaugale353/TB_detection/blob/main/tb_detection.ipynb\" target=\"_parent\"><img src=\"https://colab.research.google.com/assets/colab-badge.svg\" alt=\"Open In Colab\"/></a>"
      ]
    },
    {
      "cell_type": "code",
      "execution_count": 10,
      "metadata": {
        "id": "fUWaHzfzcr1-"
      },
      "outputs": [],
      "source": []
    },
    {
      "cell_type": "code",
      "source": [
        "import torch\n",
        "import numpy as np\n",
        "from pathlib import Path\n",
        "import cv2\n",
        "import math\n",
        "from sklearn.metrics import recall_score, accuracy_score, confusion_matrix, ConfusionMatrixDisplay, classification_report\n",
        "from collections.abc import Iterable\n",
        "import glob"
      ],
      "metadata": {
        "id": "ombbKUmfesdu"
      },
      "execution_count": 11,
      "outputs": []
    },
    {
      "cell_type": "code",
      "source": [
        "batch_size=30\n",
        "patch_size=16\n",
        "img_size=224\n",
        "num_patches=(img_size//patch_size)**2\n",
        "p_dim=768\n",
        "heads_att=12\n",
        "num_encoder=12"
      ],
      "metadata": {
        "id": "2TbWqiBDe4n7"
      },
      "execution_count": 12,
      "outputs": []
    },
    {
      "cell_type": "code",
      "source": [
        "target_class={0:\"Normal\",1:\"Tuberculosis\"}\n",
        "Normal_dir=Path(\"/content/drive/MyDrive/archive/TB_Chest_Radiography_Database/Normal\")\n",
        "TB_dir=Path(\"/content/drive/MyDrive/archive/TB_Chest_Radiography_Database/Tuberculosis\")"
      ],
      "metadata": {
        "id": "glC9bjUfe7VY"
      },
      "execution_count": 13,
      "outputs": []
    },
    {
      "cell_type": "code",
      "source": [
        "Normal_images:list=sorted(list(map(str, list(Normal_dir.glob(\"*.png\")))))\n",
        "TB_images:list=sorted(list(map(str, list(TB_dir.glob(\"*.png\")))))\n",
        "Normal_labels:list=[0]*len(Normal_images)\n",
        "TB_labels:list=[1]*len(TB_images)"
      ],
      "metadata": {
        "id": "iK1t1XG5fUXM"
      },
      "execution_count": 14,
      "outputs": []
    },
    {
      "cell_type": "code",
      "source": [
        "images=np.array(Normal_images+TB_images)\n",
        "labels=np.array(Normal_labels+TB_labels)\n",
        "images.shape, labels.shape"
      ],
      "metadata": {
        "id": "M1zvEvG8fYOm",
        "outputId": "8bf31be3-c9a8-4977-9836-5e686120c0d2",
        "colab": {
          "base_uri": "https://localhost:8080/"
        }
      },
      "execution_count": 15,
      "outputs": [
        {
          "output_type": "execute_result",
          "data": {
            "text/plain": [
              "((4200,), (4200,))"
            ]
          },
          "metadata": {},
          "execution_count": 15
        }
      ]
    },
    {
      "cell_type": "code",
      "source": [
        "from sklearn.model_selection import train_test_split\n",
        "x_train, x_valid, y_train, y_valid = train_test_split(images,labels,test_size=0.2,random_state=42)\n",
        "x_valid,x_test,y_valid,y_test=train_test_split(x_valid,y_valid,test_size=0.5,random_state=42)\n",
        "(x_train.shape,x_valid.shape,x_test.shape)"
      ],
      "metadata": {
        "id": "v8N3cNavfvRd",
        "outputId": "452c6a05-1f7a-4ca3-e3a9-d19521eb8ff2",
        "colab": {
          "base_uri": "https://localhost:8080/"
        }
      },
      "execution_count": 16,
      "outputs": [
        {
          "output_type": "execute_result",
          "data": {
            "text/plain": [
              "((3360,), (420,), (420,))"
            ]
          },
          "metadata": {},
          "execution_count": 16
        }
      ]
    },
    {
      "cell_type": "code",
      "source": [
        "def image_preprocessing(path):\n",
        "    img=cv2.imread(path)\n",
        "    img=cv2.cvtColor(img,cv2.COLOR_BGR2GRAY)\n",
        "    clahe=cv2.createCLAHE(clipLimit=2)\n",
        "    img=clahe.apply(img)\n",
        "    img=cv2.GaussianBlur(img,(5,5),0,borderType=cv2.BORDER_CONSTANT)\n",
        "    img=cv2.resize(img,(img_size,img_size),interpolation=cv2.INTER_LINEAR)\n",
        "    img=cv2.cvtColor(img,cv2.COLOR_GRAY2RGB)\n",
        "    img=np.moveaxis(img,-1,0)\n",
        "    return img"
      ],
      "metadata": {
        "id": "fGtV2KyXf4Yv"
      },
      "execution_count": 17,
      "outputs": []
    },
    {
      "cell_type": "code",
      "source": [
        "!nvidia-smi"
      ],
      "metadata": {
        "id": "VvdrocKGgTR5",
        "outputId": "e7efe9a4-9f32-4f38-8ff8-c8e89af66e31",
        "colab": {
          "base_uri": "https://localhost:8080/"
        }
      },
      "execution_count": 18,
      "outputs": [
        {
          "output_type": "stream",
          "name": "stdout",
          "text": [
            "Wed Mar  6 05:20:35 2024       \n",
            "+---------------------------------------------------------------------------------------+\n",
            "| NVIDIA-SMI 535.104.05             Driver Version: 535.104.05   CUDA Version: 12.2     |\n",
            "|-----------------------------------------+----------------------+----------------------+\n",
            "| GPU  Name                 Persistence-M | Bus-Id        Disp.A | Volatile Uncorr. ECC |\n",
            "| Fan  Temp   Perf          Pwr:Usage/Cap |         Memory-Usage | GPU-Util  Compute M. |\n",
            "|                                         |                      |               MIG M. |\n",
            "|=========================================+======================+======================|\n",
            "|   0  Tesla T4                       Off | 00000000:00:04.0 Off |                    0 |\n",
            "| N/A   45C    P8              10W /  70W |      0MiB / 15360MiB |      0%      Default |\n",
            "|                                         |                      |                  N/A |\n",
            "+-----------------------------------------+----------------------+----------------------+\n",
            "                                                                                         \n",
            "+---------------------------------------------------------------------------------------+\n",
            "| Processes:                                                                            |\n",
            "|  GPU   GI   CI        PID   Type   Process name                            GPU Memory |\n",
            "|        ID   ID                                                             Usage      |\n",
            "|=======================================================================================|\n",
            "|  No running processes found                                                           |\n",
            "+---------------------------------------------------------------------------------------+\n"
          ]
        }
      ]
    },
    {
      "cell_type": "code",
      "source": [
        "x_train=np.array(list(map(image_preprocessing,x_train))).astype(np.float32)\n",
        "x_valid=np.array(list(map(image_preprocessing,x_valid))).astype(np.float32)\n",
        "x_test=np.array(list(map(image_preprocessing,x_test))).astype(np.float32)\n",
        "x_train.shape,x_valid.shape,x_test.shape"
      ],
      "metadata": {
        "id": "uY8hBK4Af7Tx",
        "outputId": "cc02f7bc-5261-4e35-d8f1-08f4fe068a6e",
        "colab": {
          "base_uri": "https://localhost:8080/"
        }
      },
      "execution_count": 19,
      "outputs": [
        {
          "output_type": "execute_result",
          "data": {
            "text/plain": [
              "((3360, 3, 224, 224), (420, 3, 224, 224), (420, 3, 224, 224))"
            ]
          },
          "metadata": {},
          "execution_count": 19
        }
      ]
    },
    {
      "cell_type": "code",
      "source": [],
      "metadata": {
        "id": "Gx4lxaKlWd3Q"
      },
      "execution_count": null,
      "outputs": []
    },
    {
      "cell_type": "code",
      "source": [
        "device=(\"cuda\" if torch.cuda.is_available() else \"cpu\")\n",
        "x_train=torch.from_numpy(x_train).to(device)\n",
        "x_valid=torch.from_numpy(x_valid).to(device)\n",
        "x_test=torch.from_numpy(x_test).to(device)\n",
        "y_train=torch.from_numpy(y_train).to(device)\n",
        "y_valid=torch.from_numpy(y_valid).to(device)\n",
        "y_test=torch.from_numpy(y_test).to(device)"
      ],
      "metadata": {
        "id": "fvpw7Hn9f-eg"
      },
      "execution_count": 20,
      "outputs": []
    },
    {
      "cell_type": "code",
      "source": [
        "class StandardScaler():\n",
        "    def __init__(self) -> None:\n",
        "        self.mean=None\n",
        "        self.std=None\n",
        "    def fit(self,tensor:torch.Tensor) -> None:\n",
        "        self.mean=tensor.mean((0,2,3),keepdim=True)\n",
        "        self.std=tensor.std((0,2,3),keepdim=True)\n",
        "    def transform(self,tensor:torch.Tensor) -> torch.Tensor:\n",
        "        scaled=(tensor-self.mean)/(self.std+1e-5)\n",
        "        return scaled\n",
        "    def fit_transform(self,tensor:torch.Tensor) -> torch.Tensor:\n",
        "        self.fit(tensor=tensor)\n",
        "        scaled=self.transform(tensor=tensor)\n",
        "        return scaled"
      ],
      "metadata": {
        "id": "B4XaQd1HiWOW"
      },
      "execution_count": 21,
      "outputs": []
    },
    {
      "cell_type": "code",
      "source": [
        "scaler=StandardScaler()\n",
        "x_train=scaler.fit_transform(x_train)\n",
        "x_test=scaler.transform(x_test)\n",
        "x_valid=scaler.transform(x_valid)"
      ],
      "metadata": {
        "id": "wqJP0nariW8E"
      },
      "execution_count": 22,
      "outputs": []
    },
    {
      "cell_type": "code",
      "source": [
        "from torch.utils.data import TensorDataset\n",
        "from torch.utils.data import DataLoader"
      ],
      "metadata": {
        "id": "MK8Waa7EidD6"
      },
      "execution_count": 23,
      "outputs": []
    },
    {
      "cell_type": "code",
      "source": [
        "train_dataset=TensorDataset(x_train,y_train)\n",
        "val_dataset=TensorDataset(x_valid,y_valid)\n",
        "test_dataset=TensorDataset(x_test,y_test)\n",
        "train_loader=DataLoader(train_dataset,batch_size=batch_size,shuffle=False)\n",
        "val_loader=DataLoader(val_dataset,batch_size=batch_size,shuffle=False)\n",
        "test_loader=DataLoader(test_dataset,batch_size=batch_size,shuffle=False)"
      ],
      "metadata": {
        "id": "nx5T-YFxigOO"
      },
      "execution_count": 24,
      "outputs": []
    },
    {
      "cell_type": "code",
      "source": [
        "def extract_image_patches(x:torch.Tensor, kernel:int, stride:int=1, dilation:int=1):\n",
        "\n",
        "    b,c,h,w = x.shape\n",
        "    h2 = math.ceil(h / stride)\n",
        "    w2 = math.ceil(w / stride)\n",
        "    pad_row = (h2 - 1) * stride + (kernel - 1) * dilation + 1 - h\n",
        "    pad_col = (w2 - 1) * stride + (kernel - 1) * dilation + 1 - w\n",
        "    x = torch.nn.functional.pad(x, (pad_row//2, pad_row - pad_row//2, pad_col//2, pad_col - pad_col//2))\n",
        "\n",
        "    # Extract patches\n",
        "    patches = x.unfold(2, kernel, stride).unfold(3, kernel, stride)\n",
        "    patches = patches.permute(0, 2, 3, 1, 4, 5).contiguous()\n",
        "    patches = patches.view(*patches.size()[:3], -1)\n",
        "\n",
        "    #flatten patches\n",
        "    return patches.view(b,-1,patches.shape[-1])"
      ],
      "metadata": {
        "id": "jcpBkVaGii-Z"
      },
      "execution_count": 25,
      "outputs": []
    },
    {
      "cell_type": "code",
      "source": [
        "class EncoderBlock(torch.nn.Module):\n",
        "    def __init__(self, projection_dim:int, num_heads:int, num_patches:int):\n",
        "        super().__init__()\n",
        "        self.projection_dim=projection_dim\n",
        "        self.num_heads=num_heads\n",
        "        self.num_patches=num_patches\n",
        "\n",
        "        self.norm1=torch.nn.LayerNorm(self.projection_dim)\n",
        "        self.norm2=torch.nn.LayerNorm(self.projection_dim)\n",
        "        self.attention=torch.nn.MultiheadAttention(self.projection_dim,self.num_heads,batch_first=True)\n",
        "        self.mlp=torch.nn.Sequential(\n",
        "            torch.nn.Linear(self.projection_dim,self.projection_dim*4),\n",
        "            torch.nn.GELU(),\n",
        "            torch.nn.Linear(self.projection_dim*4,self.projection_dim),\n",
        "        )\n",
        "\n",
        "    def forward(self,x):\n",
        "        x1=self.norm1(x)\n",
        "        attention=self.attention(x1,x1,x1)[0]\n",
        "        x2=attention+x\n",
        "        x3=self.norm2(x2)\n",
        "        x3=self.mlp(x3)\n",
        "        out=x2+x3\n",
        "        return out"
      ],
      "metadata": {
        "id": "CsGgXBCTim2K"
      },
      "execution_count": 26,
      "outputs": []
    },
    {
      "cell_type": "code",
      "source": [
        "class PEG(torch.nn.Module):\n",
        "    def __init__(self,dim:int,k:int=3):\n",
        "        super().__init__()\n",
        "        self.pos=torch.nn.Conv2d(dim,dim,k,1,1,groups=dim)\n",
        "    def forward(self,x,H,W):\n",
        "        B,N,C=x.shape\n",
        "        feat_tokens=x\n",
        "        feat_tokens=feat_tokens.transpose(1,2).view(B,C,H,W)\n",
        "        x=self.pos(feat_tokens)+feat_tokens\n",
        "        x=x.flatten(2).transpose(1,2)\n",
        "        return x"
      ],
      "metadata": {
        "id": "2CP_JJAnirKI"
      },
      "execution_count": 27,
      "outputs": []
    },
    {
      "cell_type": "code",
      "source": [
        "class ViT(torch.nn.Module):\n",
        "    def __init__(self,\n",
        "                 patch_size:int,\n",
        "                 num_patches:int,\n",
        "                 projection_dim:int,\n",
        "                 num_heads:int,\n",
        "                 num_encoder:int):\n",
        "        super().__init__()\n",
        "        self.patch_size=patch_size\n",
        "        self.num_patches=num_patches\n",
        "        self.projection_dim=projection_dim\n",
        "        self.num_heads=num_heads\n",
        "        self.num_encoder=num_encoder\n",
        "\n",
        "        self.input_d=self.patch_size*self.patch_size*3\n",
        "        self.linear=torch.nn.Linear(self.input_d,self.projection_dim)\n",
        "        self.peg=PEG(self.projection_dim,3)\n",
        "        self.blocks = torch.nn.ModuleList([\n",
        "            EncoderBlock(self.projection_dim, self.num_heads, self.num_patches) for _ in range(self.num_encoder)\n",
        "        ])\n",
        "        self.ln_out=torch.nn.LayerNorm(self.projection_dim)\n",
        "\n",
        "        self.out=torch.nn.Sequential(\n",
        "            torch.nn.Linear(self.projection_dim,1),\n",
        "            torch.nn.Sigmoid()\n",
        "        )\n",
        "    def forward(self,images:torch.Tensor):\n",
        "        batch_size=images.size()[0]\n",
        "        x=extract_image_patches(images,self.patch_size,self.patch_size)\n",
        "        x=self.linear(x)\n",
        "        encoded=x\n",
        "\n",
        "        for i,block in enumerate(self.blocks):\n",
        "            encoded=block(encoded)\n",
        "            if i==0:\n",
        "                _H,_W=int(self.num_patches**0.5),int(self.num_patches**0.5)\n",
        "                encoded=self.peg(encoded,_H,_W)\n",
        "\n",
        "        rep=encoded.mean(dim=1)\n",
        "        rep=self.ln_out(rep)\n",
        "        output=self.out(rep)\n",
        "        return output"
      ],
      "metadata": {
        "id": "ZnuGBkSgiwa0"
      },
      "execution_count": 28,
      "outputs": []
    },
    {
      "cell_type": "code",
      "source": [
        "model=ViT(patch_size=patch_size,\n",
        "          num_patches=num_patches,\n",
        "          projection_dim=p_dim,\n",
        "          num_heads=heads_att,\n",
        "          num_encoder=num_encoder).to(device)\n",
        "print(model)"
      ],
      "metadata": {
        "id": "OzOmBVaEi1ED",
        "outputId": "20b079b0-29cc-414f-897a-475fa28a77f3",
        "colab": {
          "base_uri": "https://localhost:8080/"
        }
      },
      "execution_count": 29,
      "outputs": [
        {
          "output_type": "stream",
          "name": "stdout",
          "text": [
            "ViT(\n",
            "  (linear): Linear(in_features=768, out_features=768, bias=True)\n",
            "  (peg): PEG(\n",
            "    (pos): Conv2d(768, 768, kernel_size=(3, 3), stride=(1, 1), padding=(1, 1), groups=768)\n",
            "  )\n",
            "  (blocks): ModuleList(\n",
            "    (0-11): 12 x EncoderBlock(\n",
            "      (norm1): LayerNorm((768,), eps=1e-05, elementwise_affine=True)\n",
            "      (norm2): LayerNorm((768,), eps=1e-05, elementwise_affine=True)\n",
            "      (attention): MultiheadAttention(\n",
            "        (out_proj): NonDynamicallyQuantizableLinear(in_features=768, out_features=768, bias=True)\n",
            "      )\n",
            "      (mlp): Sequential(\n",
            "        (0): Linear(in_features=768, out_features=3072, bias=True)\n",
            "        (1): GELU(approximate='none')\n",
            "        (2): Linear(in_features=3072, out_features=768, bias=True)\n",
            "      )\n",
            "    )\n",
            "  )\n",
            "  (ln_out): LayerNorm((768,), eps=1e-05, elementwise_affine=True)\n",
            "  (out): Sequential(\n",
            "    (0): Linear(in_features=768, out_features=1, bias=True)\n",
            "    (1): Sigmoid()\n",
            "  )\n",
            ")\n"
          ]
        }
      ]
    },
    {
      "cell_type": "code",
      "source": [
        "vit_total_params = sum(p.numel() for p in model.parameters())\n",
        "vit_total_params"
      ],
      "metadata": {
        "id": "x2fpCESSi4QD",
        "outputId": "ed0a5bba-03a3-430b-fbc8-d266f7c60a2f",
        "colab": {
          "base_uri": "https://localhost:8080/"
        }
      },
      "execution_count": 30,
      "outputs": [
        {
          "output_type": "execute_result",
          "data": {
            "text/plain": [
              "85655041"
            ]
          },
          "metadata": {},
          "execution_count": 30
        }
      ]
    },
    {
      "cell_type": "code",
      "source": [
        "epoch=30\n",
        "loss_fn=torch.nn.BCELoss()\n",
        "opt=torch.optim.SGD(model.parameters(),lr=1e-3,momentum=0.9)\n",
        "scheduler=torch.optim.lr_scheduler.CosineAnnealingLR(optimizer=opt,T_max=epoch,verbose=True)"
      ],
      "metadata": {
        "id": "h6dcs-wfjOES",
        "outputId": "c2953eba-579d-4be4-d91b-506e90393998",
        "colab": {
          "base_uri": "https://localhost:8080/"
        }
      },
      "execution_count": 31,
      "outputs": [
        {
          "output_type": "stream",
          "name": "stdout",
          "text": [
            "Adjusting learning rate of group 0 to 1.0000e-03.\n"
          ]
        }
      ]
    },
    {
      "cell_type": "code",
      "source": [
        "best_loss = float('inf')\n",
        "best_model_weights = None\n",
        "patience=10\n",
        "for i in range(epoch):\n",
        "    print(f\"Epoch: {i+1}\\n\")\n",
        "    model.train()\n",
        "    train_loss=0\n",
        "    train_batches=len(train_loader)\n",
        "    for batch,(x,y) in enumerate(train_loader):\n",
        "        pred=model(x).squeeze(-1)\n",
        "        loss=loss_fn(pred,y.float())\n",
        "        train_loss+=loss.item()\n",
        "        loss.backward()\n",
        "        opt.step()\n",
        "        opt.zero_grad()\n",
        "    train_loss/=train_batches\n",
        "    print(f\"Train Error: \\n Avg loss: {train_loss:>8f} \\n\")\n",
        "    model.eval()\n",
        "    test_loss=0\n",
        "    test_batches=len(val_loader)\n",
        "    with torch.no_grad():\n",
        "        for x,y in val_loader:\n",
        "            pred=model(x).squeeze(-1)\n",
        "            test_loss += loss_fn(pred,y.float()).item()\n",
        "    test_loss /= test_batches\n",
        "    print(f\"Test Error: \\n Avg loss: {test_loss:>8f} \\n\")\n",
        "    if test_loss<best_loss:\n",
        "        best_loss=test_loss\n",
        "        best_model_weights=model.state_dict()\n",
        "        patience=10\n",
        "    else:\n",
        "        patience-=1\n",
        "        if patience==0:\n",
        "            break\n",
        "    scheduler.step()\n",
        "model.load_state_dict(best_model_weights)\n",
        "print(f'best loss:', best_loss)"
      ],
      "metadata": {
        "id": "yKjNHsY3jQsY",
        "outputId": "bd5c8cb9-f196-4f28-f57b-2281dcd3f476",
        "colab": {
          "base_uri": "https://localhost:8080/"
        }
      },
      "execution_count": 32,
      "outputs": [
        {
          "output_type": "stream",
          "name": "stdout",
          "text": [
            "Epoch: 1\n",
            "\n",
            "Train Error: \n",
            " Avg loss: 0.385854 \n",
            "\n",
            "Test Error: \n",
            " Avg loss: 0.269744 \n",
            "\n",
            "Adjusting learning rate of group 0 to 9.9726e-04.\n",
            "Epoch: 2\n",
            "\n",
            "Train Error: \n",
            " Avg loss: 0.301950 \n",
            "\n",
            "Test Error: \n",
            " Avg loss: 0.206855 \n",
            "\n",
            "Adjusting learning rate of group 0 to 9.8907e-04.\n",
            "Epoch: 3\n",
            "\n",
            "Train Error: \n",
            " Avg loss: 0.245066 \n",
            "\n",
            "Test Error: \n",
            " Avg loss: 0.172356 \n",
            "\n",
            "Adjusting learning rate of group 0 to 9.7553e-04.\n",
            "Epoch: 4\n",
            "\n",
            "Train Error: \n",
            " Avg loss: 0.199868 \n",
            "\n",
            "Test Error: \n",
            " Avg loss: 0.229386 \n",
            "\n",
            "Adjusting learning rate of group 0 to 9.5677e-04.\n",
            "Epoch: 5\n",
            "\n",
            "Train Error: \n",
            " Avg loss: 0.164345 \n",
            "\n",
            "Test Error: \n",
            " Avg loss: 0.143878 \n",
            "\n",
            "Adjusting learning rate of group 0 to 9.3301e-04.\n",
            "Epoch: 6\n",
            "\n",
            "Train Error: \n",
            " Avg loss: 0.117842 \n",
            "\n",
            "Test Error: \n",
            " Avg loss: 0.106918 \n",
            "\n",
            "Adjusting learning rate of group 0 to 9.0451e-04.\n",
            "Epoch: 7\n",
            "\n",
            "Train Error: \n",
            " Avg loss: 0.104704 \n",
            "\n",
            "Test Error: \n",
            " Avg loss: 0.101112 \n",
            "\n",
            "Adjusting learning rate of group 0 to 8.7157e-04.\n",
            "Epoch: 8\n",
            "\n",
            "Train Error: \n",
            " Avg loss: 0.105941 \n",
            "\n",
            "Test Error: \n",
            " Avg loss: 0.100986 \n",
            "\n",
            "Adjusting learning rate of group 0 to 8.3457e-04.\n",
            "Epoch: 9\n",
            "\n",
            "Train Error: \n",
            " Avg loss: 0.090082 \n",
            "\n",
            "Test Error: \n",
            " Avg loss: 0.115014 \n",
            "\n",
            "Adjusting learning rate of group 0 to 7.9389e-04.\n",
            "Epoch: 10\n",
            "\n",
            "Train Error: \n",
            " Avg loss: 0.087506 \n",
            "\n",
            "Test Error: \n",
            " Avg loss: 0.087413 \n",
            "\n",
            "Adjusting learning rate of group 0 to 7.5000e-04.\n",
            "Epoch: 11\n",
            "\n",
            "Train Error: \n",
            " Avg loss: 0.055710 \n",
            "\n",
            "Test Error: \n",
            " Avg loss: 0.063016 \n",
            "\n",
            "Adjusting learning rate of group 0 to 7.0337e-04.\n",
            "Epoch: 12\n",
            "\n",
            "Train Error: \n",
            " Avg loss: 0.049879 \n",
            "\n",
            "Test Error: \n",
            " Avg loss: 0.059421 \n",
            "\n",
            "Adjusting learning rate of group 0 to 6.5451e-04.\n",
            "Epoch: 13\n",
            "\n",
            "Train Error: \n",
            " Avg loss: 0.053510 \n",
            "\n",
            "Test Error: \n",
            " Avg loss: 0.058743 \n",
            "\n",
            "Adjusting learning rate of group 0 to 6.0396e-04.\n",
            "Epoch: 14\n",
            "\n",
            "Train Error: \n",
            " Avg loss: 0.043268 \n",
            "\n",
            "Test Error: \n",
            " Avg loss: 0.063590 \n",
            "\n",
            "Adjusting learning rate of group 0 to 5.5226e-04.\n",
            "Epoch: 15\n",
            "\n",
            "Train Error: \n",
            " Avg loss: 0.033854 \n",
            "\n",
            "Test Error: \n",
            " Avg loss: 0.056093 \n",
            "\n",
            "Adjusting learning rate of group 0 to 5.0000e-04.\n",
            "Epoch: 16\n",
            "\n",
            "Train Error: \n",
            " Avg loss: 0.054103 \n",
            "\n",
            "Test Error: \n",
            " Avg loss: 0.057856 \n",
            "\n",
            "Adjusting learning rate of group 0 to 4.4774e-04.\n",
            "Epoch: 17\n",
            "\n",
            "Train Error: \n",
            " Avg loss: 0.032304 \n",
            "\n",
            "Test Error: \n",
            " Avg loss: 0.047708 \n",
            "\n",
            "Adjusting learning rate of group 0 to 3.9604e-04.\n",
            "Epoch: 18\n",
            "\n",
            "Train Error: \n",
            " Avg loss: 0.026779 \n",
            "\n",
            "Test Error: \n",
            " Avg loss: 0.049119 \n",
            "\n",
            "Adjusting learning rate of group 0 to 3.4549e-04.\n",
            "Epoch: 19\n",
            "\n",
            "Train Error: \n",
            " Avg loss: 0.018361 \n",
            "\n",
            "Test Error: \n",
            " Avg loss: 0.055674 \n",
            "\n",
            "Adjusting learning rate of group 0 to 2.9663e-04.\n",
            "Epoch: 20\n",
            "\n",
            "Train Error: \n",
            " Avg loss: 0.013881 \n",
            "\n",
            "Test Error: \n",
            " Avg loss: 0.041060 \n",
            "\n",
            "Adjusting learning rate of group 0 to 2.5000e-04.\n",
            "Epoch: 21\n",
            "\n",
            "Train Error: \n",
            " Avg loss: 0.012360 \n",
            "\n",
            "Test Error: \n",
            " Avg loss: 0.038949 \n",
            "\n",
            "Adjusting learning rate of group 0 to 2.0611e-04.\n",
            "Epoch: 22\n",
            "\n",
            "Train Error: \n",
            " Avg loss: 0.009650 \n",
            "\n",
            "Test Error: \n",
            " Avg loss: 0.038218 \n",
            "\n",
            "Adjusting learning rate of group 0 to 1.6543e-04.\n",
            "Epoch: 23\n",
            "\n",
            "Train Error: \n",
            " Avg loss: 0.008339 \n",
            "\n",
            "Test Error: \n",
            " Avg loss: 0.037708 \n",
            "\n",
            "Adjusting learning rate of group 0 to 1.2843e-04.\n",
            "Epoch: 24\n",
            "\n",
            "Train Error: \n",
            " Avg loss: 0.007219 \n",
            "\n",
            "Test Error: \n",
            " Avg loss: 0.038591 \n",
            "\n",
            "Adjusting learning rate of group 0 to 9.5492e-05.\n",
            "Epoch: 25\n",
            "\n",
            "Train Error: \n",
            " Avg loss: 0.006345 \n",
            "\n",
            "Test Error: \n",
            " Avg loss: 0.039258 \n",
            "\n",
            "Adjusting learning rate of group 0 to 6.6987e-05.\n",
            "Epoch: 26\n",
            "\n",
            "Train Error: \n",
            " Avg loss: 0.005779 \n",
            "\n",
            "Test Error: \n",
            " Avg loss: 0.038961 \n",
            "\n",
            "Adjusting learning rate of group 0 to 4.3227e-05.\n",
            "Epoch: 27\n",
            "\n",
            "Train Error: \n",
            " Avg loss: 0.005400 \n",
            "\n",
            "Test Error: \n",
            " Avg loss: 0.038489 \n",
            "\n",
            "Adjusting learning rate of group 0 to 2.4472e-05.\n",
            "Epoch: 28\n",
            "\n",
            "Train Error: \n",
            " Avg loss: 0.005142 \n",
            "\n",
            "Test Error: \n",
            " Avg loss: 0.038289 \n",
            "\n",
            "Adjusting learning rate of group 0 to 1.0926e-05.\n",
            "Epoch: 29\n",
            "\n",
            "Train Error: \n",
            " Avg loss: 0.004991 \n",
            "\n",
            "Test Error: \n",
            " Avg loss: 0.038225 \n",
            "\n",
            "Adjusting learning rate of group 0 to 2.7391e-06.\n",
            "Epoch: 30\n",
            "\n",
            "Train Error: \n",
            " Avg loss: 0.004917 \n",
            "\n",
            "Test Error: \n",
            " Avg loss: 0.038206 \n",
            "\n",
            "Adjusting learning rate of group 0 to 0.0000e+00.\n",
            "best loss: 0.03770775259389276\n"
          ]
        }
      ]
    },
    {
      "cell_type": "code",
      "source": [
        "model.eval()\n",
        "val_preds=[]\n",
        "with torch.no_grad():\n",
        "    for x,y in val_loader:\n",
        "        pred=model(x).squeeze(-1)\n",
        "        val_preds.append(pred.cpu().numpy())\n",
        "val_preds=np.concatenate(val_preds,axis=0)\n",
        "val_preds=np.round(val_preds)\n",
        "recall_score(y_valid.cpu().numpy(),val_preds),accuracy_score(y_valid.cpu().numpy(),val_preds)"
      ],
      "metadata": {
        "id": "0q97t12ljVqi",
        "outputId": "49a6215d-0d89-49f4-cc3e-e7e75c0a72aa",
        "colab": {
          "base_uri": "https://localhost:8080/"
        }
      },
      "execution_count": 33,
      "outputs": [
        {
          "output_type": "execute_result",
          "data": {
            "text/plain": [
              "(0.9436619718309859, 0.9833333333333333)"
            ]
          },
          "metadata": {},
          "execution_count": 33
        }
      ]
    },
    {
      "cell_type": "code",
      "source": [
        "model.eval()\n",
        "test_preds=[]\n",
        "with torch.no_grad():\n",
        "    for x,y in test_loader:\n",
        "        pred=model(x).squeeze(-1)\n",
        "        test_preds.append(pred.cpu().numpy())\n",
        "test_preds=np.concatenate(test_preds,axis=0)\n",
        "test_preds=np.round(test_preds)\n",
        "recall_score(y_test.cpu().numpy(),test_preds),accuracy_score(y_test.cpu().numpy(),test_preds)"
      ],
      "metadata": {
        "id": "ZocXWWn_jazQ",
        "outputId": "5da4e4bf-eadb-49b5-b369-a0bcb85e77f6",
        "colab": {
          "base_uri": "https://localhost:8080/"
        }
      },
      "execution_count": 34,
      "outputs": [
        {
          "output_type": "execute_result",
          "data": {
            "text/plain": [
              "(0.9090909090909091, 0.9833333333333333)"
            ]
          },
          "metadata": {},
          "execution_count": 34
        }
      ]
    },
    {
      "cell_type": "code",
      "source": [
        "def evaluation_parametrics(name,y_val, y_pred):\n",
        "\n",
        "    print(\"\\n------------------------{}------------------------\\n\".format(name))\n",
        "\n",
        "    cm_test = confusion_matrix(y_val, y_pred)\n",
        "    t1 = ConfusionMatrixDisplay(cm_test)\n",
        "    # Calculate accuracy\n",
        "    accuracy = accuracy_score(y_val, y_pred)\n",
        "    print(f\"\\nAccuracy: {accuracy:.4f} ({accuracy * 100:.2f}%)\")\n",
        "\n",
        "    print(\"\\nClassification Report\\n\")\n",
        "    print(classification_report(y_val, y_pred))\n",
        "    print(\"--------------------------------------------------------------------------\")\n",
        "\n",
        "    t1.plot()\n",
        "evaluation_parametrics(\"Confusion Matrix - Validation Dataset\", y_valid.cpu().numpy(), val_preds)"
      ],
      "metadata": {
        "id": "JP_rVVqOjdw5",
        "outputId": "b7ffee4e-5504-48c1-bfc2-48263277234c",
        "colab": {
          "base_uri": "https://localhost:8080/",
          "height": 761
        }
      },
      "execution_count": 36,
      "outputs": [
        {
          "output_type": "stream",
          "name": "stdout",
          "text": [
            "\n",
            "------------------------Confusion Matrix - Validation Dataset------------------------\n",
            "\n",
            "\n",
            "Accuracy: 0.9833 (98.33%)\n",
            "\n",
            "Classification Report\n",
            "\n",
            "              precision    recall  f1-score   support\n",
            "\n",
            "           0       0.99      0.99      0.99       349\n",
            "           1       0.96      0.94      0.95        71\n",
            "\n",
            "    accuracy                           0.98       420\n",
            "   macro avg       0.97      0.97      0.97       420\n",
            "weighted avg       0.98      0.98      0.98       420\n",
            "\n",
            "--------------------------------------------------------------------------\n"
          ]
        },
        {
          "output_type": "display_data",
          "data": {
            "text/plain": [
              "<Figure size 640x480 with 2 Axes>"
            ],
            "image/png": "[encoded data removed]"
          },
          "metadata": {}
        }
      ]
    },
    {
      "cell_type": "code",
      "source": [],
      "metadata": {
        "id": "EQOhOpvVjk_W"
      },
      "execution_count": 35,
      "outputs": []
    },
    {
      "cell_type": "code",
      "source": [
        "def save_model(model, filename):\n",
        "  \"\"\"Saves the PyTorch model to the specified file.\n",
        "\n",
        "  Args:\n",
        "      model: The PyTorch model to save.\n",
        "      filename: The filename to save the model to.\n",
        "  \"\"\"\n",
        "  torch.save(model.state_dict(), filename)\n",
        "  print(f\"Model saved successfully to: {filename}\")\n"
      ],
      "metadata": {
        "id": "-5WQNvO2Wf59"
      },
      "execution_count": 37,
      "outputs": []
    },
    {
      "cell_type": "code",
      "source": [
        "filename = \"/content/drive/MyDrive/archive/TB_Chest_Radiography_Database/krish.pth\"  # Example filename\n"
      ],
      "metadata": {
        "id": "zDXopbJZWkqW"
      },
      "execution_count": 38,
      "outputs": []
    },
    {
      "cell_type": "code",
      "source": [
        "# Train your model... (assuming you have a trained model)\n",
        "\n",
        "save_model(model, filename)\n"
      ],
      "metadata": {
        "id": "teuwsGgDWoS5",
        "outputId": "fa8cda1b-df9e-4696-84a3-c083a55aeba2",
        "colab": {
          "base_uri": "https://localhost:8080/"
        }
      },
      "execution_count": 39,
      "outputs": [
        {
          "output_type": "stream",
          "name": "stdout",
          "text": [
            "Model saved successfully to: /content/drive/MyDrive/archive/TB_Chest_Radiography_Database/krish.pth\n"
          ]
        }
      ]
    },
    {
      "cell_type": "code",
      "source": [
        "import torch\n",
        "\n",
        "def load_model(filename):\n",
        "  \"\"\"Loads a PyTorch model from the specified file.\n",
        "\n",
        "  Args:\n",
        "      filename: The filename from which to load the model.\n",
        "\n",
        "  Returns:\n",
        "      The loaded PyTorch model.\n",
        "  \"\"\"\n",
        "  model = ViT(  # Replace with your actual values if necessary\n",
        "    patch_size=16,\n",
        "    num_patches=196,\n",
        "    projection_dim=768,\n",
        "    num_heads=12,\n",
        "    num_encoder=12\n",
        "  )\n",
        "\n",
        "  model.load_state_dict(torch.load(filename))\n",
        "  print(f\"Model loaded successfully from: {filename}\")\n",
        "  return model\n"
      ],
      "metadata": {
        "id": "oMJw0urLWzTL"
      },
      "execution_count": 46,
      "outputs": []
    },
    {
      "cell_type": "code",
      "source": [
        "# Example usage:\n",
        "loaded_model = load_model(\"/content/drive/MyDrive/archive/TB_Chest_Radiography_Database/krish.pth\")\n"
      ],
      "metadata": {
        "id": "iwAhmmh0W7k9",
        "outputId": "b944e17d-0caa-4d15-a116-d2f4f2628437",
        "colab": {
          "base_uri": "https://localhost:8080/"
        }
      },
      "execution_count": 47,
      "outputs": [
        {
          "output_type": "stream",
          "name": "stdout",
          "text": [
            "Model loaded successfully from: /content/drive/MyDrive/archive/TB_Chest_Radiography_Database/krish.pth\n"
          ]
        }
      ]
    },
    {
      "cell_type": "code",
      "source": [],
      "metadata": {
        "id": "TMxyMZwmdh6s"
      },
      "execution_count": null,
      "outputs": []
    }
  ]
}